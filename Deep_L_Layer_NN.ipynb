{
 "cells": [
  {
   "cell_type": "code",
   "execution_count": 4,
   "metadata": {
    "collapsed": true
   },
   "outputs": [],
   "source": [
    "import numpy as np\n",
    "import math\n",
    "import tensorflow as tf\n",
    "from tensorflow.python.framework import ops\n",
    "import h5py\n",
    "import time\n",
    "import matplotlib.pyplot as plt\n",
    "\n",
    "%matplotlib inline"
   ]
  },
  {
   "cell_type": "markdown",
   "metadata": {},
   "source": [
    "## <u>Problem Statement:\n",
    "We are given pictures of hand signs taken from **SIGNS Dataset** where each picture shows a hand sign denoting a number from 0-5.\n",
    "- **Training set**: pictures (64 by 64 pixels) of signs representing numbers from 0 to 5 (180 pictures per number).\n",
    "- **Test set**: pictures (64 by 64 pixels) of signs representing numbers from 0 to 5 (20 pictures per number).\n"
   ]
  },
  {
   "cell_type": "markdown",
   "metadata": {},
   "source": [
    "## <u>Preprocessing Step</u>\n",
    "### First we need to load the data\n"
   ]
  },
  {
   "cell_type": "code",
   "execution_count": 5,
   "metadata": {
    "collapsed": true
   },
   "outputs": [],
   "source": [
    "'''\n",
    "Loads the data from the data set file\n",
    "Arguments:\n",
    "    nil\n",
    "returns:\n",
    "    train_X:(numpy array) contains the training features\n",
    "    train_y:(numpy array) contains the correct labels for the training examples\n",
    "    test_X:(numpy array) contains the test features\n",
    "    test_y:(numpy array) contains the correct labels for the test examples\n",
    "'''\n",
    "def loadData():\n",
    "    \n",
    "    # load the train file\n",
    "    train_data = h5py.File('datasets/train_signs.h5', \"r\")\n",
    "    # load the training features \n",
    "    train_X = np.array(train_data['train_set_x'][:])\n",
    "    # load the correct labels for training set\n",
    "    train_y = np.array(train_data['train_set_y'][:])\n",
    "    \n",
    "    # load the test file\n",
    "    test_data = h5py.File('datasets/test_signs.h5', \"r\")\n",
    "    # load the test features \n",
    "    test_X = np.array(test_data['test_set_x'][:])\n",
    "    # load the correct labels for test set\n",
    "    test_y = np.array(test_data['test_set_y'][:])\n",
    "    \n",
    "    return train_X, train_y, test_X, test_y"
   ]
  },
  {
   "cell_type": "code",
   "execution_count": 6,
   "metadata": {
    "collapsed": true
   },
   "outputs": [],
   "source": [
    "#load the data\n",
    "train_X, train_y, test_X, test_y = loadData()"
   ]
  },
  {
   "cell_type": "markdown",
   "metadata": {},
   "source": [
    "#### First let us check the dimensions of the loaded data variables"
   ]
  },
  {
   "cell_type": "code",
   "execution_count": 7,
   "metadata": {},
   "outputs": [
    {
     "name": "stdout",
     "output_type": "stream",
     "text": [
      "Training set shape:(1080, 64, 64, 3)\n",
      "Training set shape:(1080,)\n",
      "Test set shape:(120, 64, 64, 3)\n",
      "Test set shape:(120,)\n"
     ]
    }
   ],
   "source": [
    "print('Training set shape:'+ str(train_X.shape))\n",
    "print('Training set shape:'+ str(train_y.shape))\n",
    "print('Test set shape:'+ str(test_X.shape))\n",
    "print('Test set shape:'+ str(test_y.shape))"
   ]
  },
  {
   "cell_type": "markdown",
   "metadata": {},
   "source": [
    "#### Reshape the required variables\n"
   ]
  },
  {
   "cell_type": "code",
   "execution_count": 8,
   "metadata": {
    "collapsed": true
   },
   "outputs": [],
   "source": [
    "train_y = np.reshape(train_y, (train_y.shape[0],1))\n",
    "test_y = np.reshape(test_y, (test_y.shape[0],1))"
   ]
  },
  {
   "cell_type": "markdown",
   "metadata": {},
   "source": [
    "#### Visualise the input data\n"
   ]
  },
  {
   "cell_type": "code",
   "execution_count": 9,
   "metadata": {},
   "outputs": [
    {
     "data": {
      "text/plain": [
       "<matplotlib.image.AxesImage at 0x245b98e0320>"
      ]
     },
     "execution_count": 9,
     "metadata": {},
     "output_type": "execute_result"
    },
    {
     "data": {
      "image/png": "[encoded data removed]",
      "text/plain": [
       "<matplotlib.figure.Figure at 0x245b94ca198>"
      ]
     },
     "metadata": {},
     "output_type": "display_data"
    }
   ],
   "source": [
    "rand_index = np.random.randint(0,train_X.shape[0])\n",
    "plt.imshow(np.squeeze(train_X[rand_index]))"
   ]
  },
  {
   "cell_type": "markdown",
   "metadata": {},
   "source": [
    "### Next step is to Normalize the features and flatten the pixel values in a vector instead of having them in a 3 channel matrix.\n",
    "For images dividing the pixel values by 255 is enough to normalize the values.\n",
    "<br> For flattening the input features from (m, height, width, 3) to (height X width X 3, m) we will use **reshape() from numpy.** \n",
    "<br>Also correct labels vector neeeds to be converted into one hot matrix."
   ]
  },
  {
   "cell_type": "code",
   "execution_count": 10,
   "metadata": {
    "collapsed": true
   },
   "outputs": [],
   "source": [
    "# Normalize the features\n",
    "train_X = train_X/255\n",
    "test_X = test_X/255"
   ]
  },
  {
   "cell_type": "code",
   "execution_count": 11,
   "metadata": {},
   "outputs": [
    {
     "name": "stdout",
     "output_type": "stream",
     "text": [
      "Training set feature shape:(12288, 1080)\n",
      "Training set labels shape:(6, 1080)\n",
      "Test set features shape:(12288, 120)\n",
      "Test set labels shape:(6, 120)\n"
     ]
    }
   ],
   "source": [
    "# Unroll/Flatten the feature vectors\n",
    "train_X = train_X.reshape(train_X.shape[0], -1).T\n",
    "test_X = test_X.reshape(test_X.shape[0], -1).T\n",
    "\n",
    "# converting correct labels matrix to one hot matrix\n",
    "train_y = np.eye(6)[train_y.reshape(-1)].T\n",
    "test_y = np.eye(6)[test_y.reshape(-1)].T\n",
    "\n",
    "print('Training set feature shape:'+ str(train_X.shape))\n",
    "print('Training set labels shape:'+ str(train_y.shape))\n",
    "print('Test set features shape:'+ str(test_X.shape))\n",
    "print('Test set labels shape:'+ str(test_y.shape))"
   ]
  },
  {
   "cell_type": "markdown",
   "metadata": {},
   "source": [
    "## <u>Neural Network Architecture\n",
    "<br>Input layer: 12288 features\n",
    "<br>No. of Hidden Layers: 4\n",
    "<br>No. of units in hidden layer: 25, 12, 10, 8\n",
    "<br>Output Layer units: 6 (for 6 classes)\n",
    "\n",
    "**Model:**\n",
    "<br>input --> Linear --> ReLU --> Linear -->ReLU -->Linear -->Softmax(output)"
   ]
  },
  {
   "cell_type": "markdown",
   "metadata": {},
   "source": [
    "In tensorflow we define blocks for the computational graph and in the end run the data through the computational graph.\n",
    "<br>So for coding in tensforflow we need not worry about finding the gradients for backpropagation as all the things are systematically coded in computaional blocks, tensorflow can find the gradients for us.<br>\n",
    "<br><u>**Steps:**</u>\n",
    "<br>1) Create tensors \n",
    "<br>2) Define the operations to do with the tensors\n",
    "<br>3) initialize the variables\n",
    "<br>4) start and run the session to run the graph model"
   ]
  },
  {
   "cell_type": "code",
   "execution_count": 21,
   "metadata": {
    "collapsed": true
   },
   "outputs": [],
   "source": [
    "def createPlaceholders(n_x, n_y):\n",
    "    # create tf placeholders required for computational graph\n",
    "    X = tf.placeholder(shape = [n_x, None], dtype = 'float')\n",
    "    y = tf.placeholder(shape = [n_y, None], dtype = 'float')\n",
    "  \n",
    "    return X, y"
   ]
  },
  {
   "cell_type": "markdown",
   "metadata": {},
   "source": [
    "### First we will initialize the weights for different layers\n",
    "We will be using Xavier Initialization.\n"
   ]
  },
  {
   "cell_type": "code",
   "execution_count": 19,
   "metadata": {
    "collapsed": true
   },
   "outputs": [],
   "source": [
    "def initializeParam(num_layers, num_units):\n",
    "    # for storing the parameters for the neural network mainly weight and bias values\n",
    "    parameters = {}\n",
    "    \n",
    "    for l in range(num_layers):\n",
    "        parameters['W' + str(l+1)] = tf.get_variable(name = 'W' + str(l+1), shape = [num_units[l+1],num_units[l]],\n",
    "                                                        initializer = tf.contrib.layers.xavier_initializer())\n",
    "        parameters['b' + str(l+1)] = tf.get_variable(name = 'b' + str(l+1), shape = [num_units[l+1],1],\n",
    "                                                        initializer = tf.zeros_initializer())\n",
    "            \n",
    "    return parameters    "
   ]
  },
  {
   "cell_type": "markdown",
   "metadata": {},
   "source": [
    "### <u>Forward propagation\n"
   ]
  },
  {
   "cell_type": "code",
   "execution_count": 27,
   "metadata": {
    "collapsed": true
   },
   "outputs": [],
   "source": [
    "def forwardPropagate(num_layers, num_units, X, parameters):\n",
    "    # make the initial activation equal to the input features\n",
    "    A = X\n",
    "    # find the linear output and activation output for each layer\n",
    "    for l in range(num_layers - 1):\n",
    "        # find the linear output for layer l\n",
    "        Z = tf.add( tf.matmul(parameters['W' + str(l+1)], A), parameters['b' + str(l+1)])\n",
    "        A = tf.nn.relu(Z)\n",
    "    # linear output for the final layer\n",
    "    Z = tf.add( tf.matmul(parameters['W' + str(num_layers)], A), parameters['b' + str(num_layers)])\n",
    "    return Z"
   ]
  },
  {
   "cell_type": "markdown",
   "metadata": {},
   "source": [
    "### <u>Cost function"
   ]
  },
  {
   "cell_type": "code",
   "execution_count": 23,
   "metadata": {
    "collapsed": true
   },
   "outputs": [],
   "source": [
    "def computeCost(Z, y):\n",
    "    # we will do softmax in the output layer and then find the cost\n",
    "    # for tensorflow we need to give the arg. in (m, n) format\n",
    "    softmax_output = tf.transpose(Z)\n",
    "    corr_labels = tf.transpose(y)\n",
    "    \n",
    "    return tf.reduce_mean( tf.nn.softmax_cross_entropy_with_logits(logits = softmax_output, labels = corr_labels))"
   ]
  },
  {
   "cell_type": "code",
   "execution_count": 16,
   "metadata": {
    "collapsed": true
   },
   "outputs": [],
   "source": [
    "'''\n",
    "Makes shuffled minibatches from the examples\n",
    "Arguments:\n",
    "    X: (tensorflow array) input features\n",
    "    y: correct output labels for examples\n",
    "    minibatch_size: (int) size of each minibatch\n",
    "returns:\n",
    "    mini_batches: Returns a list containing tuple pairs of feature vectors and correct output labels\n",
    "'''\n",
    "def getRandomMiniBatches(X, y, minibatch_size = 64):\n",
    "    # total training examples\n",
    "    m = X.shape[1]\n",
    "    # we will store the mini batches as tuple pair in a list\n",
    "    mini_batches = []\n",
    "    \n",
    "    ## First we need to shuffle the training examples\n",
    "    permutation_list = list(np.random.permutation(m))\n",
    "    shuffled_X = X[:, permutation_list]\n",
    "    shuffled_y = y[:, permutation_list]\n",
    "    \n",
    "    # find the total no. of mini batches that can be formed from the training examples\n",
    "    num_minibatches = math.floor(m/minibatch_size) \n",
    "    \n",
    "    # now partition the original training set into mini batches\n",
    "    # we make mini batches till the time complete mini batches can be made\n",
    "    for i in range(num_minibatches):\n",
    "        minibatch_X = X[:, i*minibatch_size: i*minibatch_size + minibatch_size]\n",
    "        minibatch_y = y[:, i*minibatch_size: i*minibatch_size + minibatch_size]\n",
    "        \n",
    "        minibatch = (minibatch_X, minibatch_y)\n",
    "        mini_batches.append(minibatch)\n",
    "        \n",
    "    # if number of minibatches that can be made is not a multiple of 'm'\n",
    "    if m % num_minibatches != 0:\n",
    "        minibatch_X = X[:, i*minibatch_size: m]\n",
    "        minibatch_y = y[:, i*minibatch_size: m]\n",
    "        \n",
    "        minibatch = (minibatch_X, minibatch_y)\n",
    "        mini_batches.append(minibatch)\n",
    "        \n",
    "    return mini_batches"
   ]
  },
  {
   "cell_type": "markdown",
   "metadata": {},
   "source": [
    "### <u>Backward Propagation and Optimization\n",
    "Tensorflow takes care of finding the gradients so our job is to provide it with the cost function and telling which optimizer to use."
   ]
  },
  {
   "cell_type": "code",
   "execution_count": 49,
   "metadata": {
    "collapsed": true
   },
   "outputs": [],
   "source": [
    "def nnModel(num_layers, layer_units, X_train, Y_train, X_test, Y_test, learning_rate = 0.0001,\n",
    "          num_epochs = 1500, minibatch_size = 64):\n",
    "    # allows the graph to run without overwriting the graph\n",
    "    ops.reset_default_graph()\n",
    "    \n",
    "    # no. of features and training examples \n",
    "    (n_x, m) = X_train.shape\n",
    "    # no. of minibatches\n",
    "    num_minibatches = math.floor(m/minibatch_size)\n",
    "    # no. of units in output layer\n",
    "    n_y = Y_train.shape[0]\n",
    "    \n",
    "    # for stroing the costs \n",
    "    costs = []\n",
    "    \n",
    "    ## Set the computational graph in place \n",
    "    # create placeholders\n",
    "    X, y = createPlaceholders(n_x, n_y)\n",
    "    \n",
    "    # initialize the parameters\n",
    "    parameters = initializeParam(num_layers, layer_units)\n",
    "    \n",
    "    # do forward propagation\n",
    "    Z = forwardPropagate(num_layers, layer_units, X, parameters)\n",
    "    \n",
    "    # for computing the cost\n",
    "    cost = computeCost(Z, y)\n",
    "    \n",
    "    # setting the optimization technique\n",
    "    optimizer = tf.train.AdamOptimizer(learning_rate = learning_rate).minimize(cost)\n",
    "    \n",
    "    # initilaze all the tf variables\n",
    "    init = tf.global_variables_initializer()\n",
    "    \n",
    "    # start a tf session and start training the neural network\n",
    "    with tf.Session() as sess:\n",
    "        # initilaize variables\n",
    "        sess.run(init)\n",
    "       \n",
    "        for epoch in range(num_epochs):\n",
    "            epoch_cost = 0\n",
    "            # get the shuffled mini batches\n",
    "            minibatches = getRandomMiniBatches(X_train, Y_train, minibatch_size)\n",
    "            \n",
    "            # start with each mini batch\n",
    "            for minibatch in minibatches:\n",
    "                # curr mini batch\n",
    "                (minibatch_X, minibatch_y) = minibatch\n",
    "                (minibatch_cost, _) = sess.run([cost, optimizer], feed_dict = {X:minibatch_X, y:minibatch_y})\n",
    "                \n",
    "                epoch_cost += minibatch_cost\n",
    "                \n",
    "            epoch_cost = epoch_cost/num_minibatches\n",
    "            \n",
    "            # printing the cost to see progress\n",
    "            if epoch % 50 == 0:\n",
    "                print('Cost for epoch %i: %f' % (epoch, epoch_cost))\n",
    "           \n",
    "            # storing the epoch cost for plotting \n",
    "            if epoch % 5 == 0:\n",
    "                costs.append(epoch_cost)\n",
    "\n",
    "        print (\"Training done\")    \n",
    "        \n",
    "        # save and return the parameters so that it can be used again\n",
    "        parameters = sess.run(parameters)\n",
    "        \n",
    "        return parameters, costs"
   ]
  },
  {
   "cell_type": "markdown",
   "metadata": {},
   "source": [
    "### Now time to do training on the neural network"
   ]
  },
  {
   "cell_type": "code",
   "execution_count": 64,
   "metadata": {},
   "outputs": [
    {
     "name": "stdout",
     "output_type": "stream",
     "text": [
      "Cost for epoch 0: 1.945247\n",
      "Cost for epoch 50: 1.665779\n",
      "Cost for epoch 100: 1.360991\n",
      "Cost for epoch 150: 1.158073\n",
      "Cost for epoch 200: 1.018115\n",
      "Cost for epoch 250: 0.897654\n",
      "Cost for epoch 300: 0.808588\n",
      "Cost for epoch 350: 0.734049\n",
      "Cost for epoch 400: 0.672968\n",
      "Cost for epoch 450: 0.620432\n",
      "Cost for epoch 500: 0.575863\n",
      "Cost for epoch 550: 0.539022\n",
      "Cost for epoch 600: 0.504949\n",
      "Cost for epoch 650: 0.475009\n",
      "Cost for epoch 700: 0.454618\n",
      "Cost for epoch 750: 0.457055\n",
      "Cost for epoch 800: 0.486262\n",
      "Cost for epoch 850: 0.449228\n",
      "Cost for epoch 900: 0.417518\n",
      "Cost for epoch 950: 0.375137\n",
      "Cost for epoch 1000: 0.351158\n",
      "Cost for epoch 1050: 0.335805\n",
      "Cost for epoch 1100: 0.327473\n",
      "Cost for epoch 1150: 0.299647\n",
      "Cost for epoch 1200: 0.289063\n",
      "Cost for epoch 1250: 0.285872\n",
      "Cost for epoch 1300: 0.292720\n",
      "Cost for epoch 1350: 0.325733\n",
      "Cost for epoch 1400: 0.270084\n",
      "Cost for epoch 1450: 0.273905\n",
      "Training done\n",
      "Time taken: 9.43382671858394 minutes\n"
     ]
    }
   ],
   "source": [
    "# for calculating the time taken for computation\n",
    "start = time.clock()\n",
    "num_layers = 5\n",
    "layer_units = [train_X.shape[0], 25, 12, 10, 8, 6]\n",
    "\n",
    "learning_rate = 0.0001,\n",
    "minibatch_size = 64\n",
    "\n",
    "# training the model\n",
    "parameters, costs = nnModel(num_layers, layer_units, train_X, train_y, test_X, test_y, learning_rate = 0.0001,\n",
    "          num_epochs = 1500, minibatch_size = 64)\n",
    "print('Time taken: ' + str((time.clock() - start)/60) + ' minutes')"
   ]
  },
  {
   "cell_type": "markdown",
   "metadata": {},
   "source": [
    "#### For plotting  cost vs epoch graph to see how the cost changes"
   ]
  },
  {
   "cell_type": "code",
   "execution_count": 59,
   "metadata": {
    "collapsed": true
   },
   "outputs": [],
   "source": [
    "'''\n",
    "Plots cost vs Interation\n",
    "Arguments:\n",
    "    costs: list of cost computed during every 5th epoch\n",
    "    learning_rate: learning rate of the optimization step\n",
    "returns:\n",
    "    nil\n",
    "'''\n",
    "def plotCost(costs, learning_rate):\n",
    "    # plot the graph for cost changing with iterations\n",
    "    plt.plot(np.squeeze(costs))\n",
    "    plt.ylabel('cost')\n",
    "    plt.xlabel('iterations (per tens)')\n",
    "    plt.title(\"Learning rate =\" + str(learning_rate))\n",
    "    plt.show()"
   ]
  },
  {
   "cell_type": "markdown",
   "metadata": {},
   "source": [
    "#### For calculating the accuracy of the Model"
   ]
  },
  {
   "cell_type": "code",
   "execution_count": 60,
   "metadata": {
    "collapsed": true
   },
   "outputs": [],
   "source": [
    "'''\n",
    "Calculates the accuracy on training and test sets\n",
    "Arguments:\n",
    "    X_train: training features fro m examples\n",
    "    Y_train: correct output labels for training examples\n",
    "    X_test: input features for test examples \n",
    "    Y_test:correct otuput labels for examples\n",
    "    num_layers: no. of layers\n",
    "    layer_units: list containing the no. of units in each layer\n",
    "    parameters: trained parameter values for the neural network includes weight and bias values\n",
    "returns:\n",
    "    nil\n",
    "'''\n",
    "def calculateAccuracy( X_train, Y_train, X_test, Y_test, num_layers, layer_units, parameters ):\n",
    "    # no. of features\n",
    "    n_x = X_train.shape[0]\n",
    "    n_y = 6\n",
    "    \n",
    "    # placeholder for input features\n",
    "    X = tf.placeholder(\"float\", [n_x, None])\n",
    "    Y = tf.placeholder(\"float\", [n_y,None])\n",
    "    \n",
    "    # for storing the tf converted parameters\n",
    "    tf_param = {}\n",
    "    \n",
    "    # convert the parameters to tf \n",
    "    for l in range(num_layers):\n",
    "            tf_param['W' + str(l+1)] = tf.convert_to_tensor(parameters['W' + str(l+1)])\n",
    "            tf_param['b' + str(l+1)] = tf.convert_to_tensor(parameters['b' + str(l+1)])\n",
    "    \n",
    "    # take the output from trained NN by doing forward propagation\n",
    "    Z3 = forwardPropagate(num_layers, layer_units, X, tf_param)\n",
    "    \n",
    "    # Calculate the correct predictions\n",
    "    corr_predictions = tf.equal(tf.argmax(Z3), tf.argmax(Y))\n",
    "\n",
    "    # Calculate accuracy on the test set\n",
    "    accuracy = tf.reduce_mean(tf.cast(corr_predictions, \"float\"))\n",
    "    with tf.Session() as sess:\n",
    "        print (\"Accuracy on Training set:\", accuracy.eval({X: X_train, Y: Y_train})*100)\n",
    "        print (\"Accuracy on Test set:\", accuracy.eval({X: X_test, Y: Y_test})*100)"
   ]
  },
  {
   "cell_type": "code",
   "execution_count": 65,
   "metadata": {},
   "outputs": [
    {
     "data": {
      "image/png": "[encoded data removed]",
      "text/plain": [
       "<matplotlib.figure.Figure at 0x2460865f0b8>"
      ]
     },
     "metadata": {},
     "output_type": "display_data"
    },
    {
     "name": "stdout",
     "output_type": "stream",
     "text": [
      "Accuracy on Training set: 93.0555582047\n",
      "Accuracy on Test set: 69.1666662693\n"
     ]
    }
   ],
   "source": [
    "learning_rate = 0.0001\n",
    "plotCost(costs, learning_rate)\n",
    "calculateAccuracy( train_X, train_y, test_X, test_y, num_layers, layer_units, parameters )"
   ]
  }
 ],
 "metadata": {
  "kernelspec": {
   "display_name": "Python 3",
   "language": "python",
   "name": "python3"
  },
  "language_info": {
   "codemirror_mode": {
    "name": "ipython",
    "version": 3
   },
   "file_extension": ".py",
   "mimetype": "text/x-python",
   "name": "python",
   "nbconvert_exporter": "python",
   "pygments_lexer": "ipython3",
   "version": "3.6.3"
  }
 },
 "nbformat": 4,
 "nbformat_minor": 2
}
