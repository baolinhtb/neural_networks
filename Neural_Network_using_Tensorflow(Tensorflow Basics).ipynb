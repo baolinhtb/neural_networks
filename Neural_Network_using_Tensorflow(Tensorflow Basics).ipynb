{
 "cells": [
  {
   "cell_type": "markdown",
   "metadata": {},
   "source": [
    "# <u>Neural Network using Tensorflow"
   ]
  },
  {
   "cell_type": "markdown",
   "metadata": {},
   "source": [
    "### First we will have to import some libraries"
   ]
  },
  {
   "cell_type": "code",
   "execution_count": 39,
   "metadata": {
    "collapsed": true
   },
   "outputs": [],
   "source": [
    "import numpy as np\n",
    "import tensorflow as tf\n",
    "import matplotlib.pyplot as plt\n",
    "import h5py\n",
    "import math\n",
    "from tensorflow.python.framework import ops\n",
    "import time\n",
    "\n",
    "%matplotlib inline"
   ]
  },
  {
   "cell_type": "markdown",
   "metadata": {},
   "source": [
    "## <u>Problem Statement:\n",
    "We are given pictures of hand signs taken from **SIGNS Dataset** where each picture shows a hand sign denoting a number from 0-5.\n",
    "- **Training set**: pictures (64 by 64 pixels) of signs representing numbers from 0 to 5 (180 pictures per number).\n",
    "- **Test set**: pictures (64 by 64 pixels) of signs representing numbers from 0 to 5 (20 pictures per number).\n"
   ]
  },
  {
   "cell_type": "markdown",
   "metadata": {},
   "source": [
    "## <u>Preprocessing Step</u>\n",
    "### First we need to load the data\n"
   ]
  },
  {
   "cell_type": "code",
   "execution_count": 40,
   "metadata": {
    "collapsed": true
   },
   "outputs": [],
   "source": [
    "'''\n",
    "Loads the data from the data set file\n",
    "Arguments:\n",
    "    nil\n",
    "returns:\n",
    "    train_X:(numpy array) contains the training features\n",
    "    train_y:(numpy array) contains the correct labels for the training examples\n",
    "    test_X:(numpy array) contains the test features\n",
    "    test_y:(numpy array) contains the correct labels for the test examples\n",
    "'''\n",
    "def loadData():\n",
    "    \n",
    "    # load the train file\n",
    "    train_data = h5py.File('datasets/train_signs.h5', \"r\")\n",
    "    # load the training features \n",
    "    train_X = np.array(train_data['train_set_x'][:])\n",
    "    # load the correct labels for training set\n",
    "    train_y = np.array(train_data['train_set_y'][:])\n",
    "    \n",
    "    # load the test file\n",
    "    test_data = h5py.File('datasets/test_signs.h5', \"r\")\n",
    "    # load the test features \n",
    "    test_X = np.array(test_data['test_set_x'][:])\n",
    "    # load the correct labels for test set\n",
    "    test_y = np.array(test_data['test_set_y'][:])\n",
    "    \n",
    "    return train_X, train_y, test_X, test_y"
   ]
  },
  {
   "cell_type": "code",
   "execution_count": 41,
   "metadata": {
    "collapsed": true
   },
   "outputs": [],
   "source": [
    "#load the data\n",
    "train_X, train_y, test_X, test_y = loadData()"
   ]
  },
  {
   "cell_type": "markdown",
   "metadata": {},
   "source": [
    "#### First let us check the dimensions of the loaded data variables"
   ]
  },
  {
   "cell_type": "code",
   "execution_count": 42,
   "metadata": {},
   "outputs": [
    {
     "name": "stdout",
     "output_type": "stream",
     "text": [
      "Training set shape:(1080, 64, 64, 3)\n",
      "Training set shape:(1080,)\n",
      "Test set shape:(120, 64, 64, 3)\n",
      "Test set shape:(120,)\n"
     ]
    }
   ],
   "source": [
    "print('Training set shape:'+ str(train_X.shape))\n",
    "print('Training set shape:'+ str(train_y.shape))\n",
    "print('Test set shape:'+ str(test_X.shape))\n",
    "print('Test set shape:'+ str(test_y.shape))"
   ]
  },
  {
   "cell_type": "markdown",
   "metadata": {},
   "source": [
    "#### Reshape the required variables\n"
   ]
  },
  {
   "cell_type": "code",
   "execution_count": 43,
   "metadata": {
    "collapsed": true
   },
   "outputs": [],
   "source": [
    "train_y = np.reshape(train_y, (train_y.shape[0],1))\n",
    "test_y = np.reshape(test_y, (test_y.shape[0],1))"
   ]
  },
  {
   "cell_type": "markdown",
   "metadata": {},
   "source": [
    "#### Visualise the input data\n"
   ]
  },
  {
   "cell_type": "code",
   "execution_count": 44,
   "metadata": {},
   "outputs": [
    {
     "data": {
      "text/plain": [
       "<matplotlib.image.AxesImage at 0x17a8e1d58d0>"
      ]
     },
     "execution_count": 44,
     "metadata": {},
     "output_type": "execute_result"
    },
    {
     "data": {
      "image/png": "[encoded data removed]",
      "text/plain": [
       "<matplotlib.figure.Figure at 0x17a88076518>"
      ]
     },
     "metadata": {},
     "output_type": "display_data"
    }
   ],
   "source": [
    "rand_index = np.random.randint(0,train_X.shape[0])\n",
    "plt.imshow(np.squeeze(train_X[rand_index]))"
   ]
  },
  {
   "cell_type": "markdown",
   "metadata": {},
   "source": [
    "### Next step is to Normalize the features and flatten the pixel values in a vector instead of having them in a 3 channel matrix.\n",
    "For images dividing the pixel values by 255 is enough to normalize the values.\n",
    "<br> For flattening the input features from (m, height, width, 3) to (height X width X 3, m) we will use **reshape() from numpy.** \n",
    "<br>Also correct labels vector neeeds to be converted into one hot matrix."
   ]
  },
  {
   "cell_type": "code",
   "execution_count": 45,
   "metadata": {
    "collapsed": true
   },
   "outputs": [],
   "source": [
    "# Normalize the features\n",
    "train_X = train_X/255\n",
    "test_X = test_X/255"
   ]
  },
  {
   "cell_type": "code",
   "execution_count": 46,
   "metadata": {
    "collapsed": true
   },
   "outputs": [],
   "source": [
    "# Unroll/Flatten the feature vectors\n",
    "train_X = train_X.reshape(train_X.shape[0], -1).T\n",
    "test_X = test_X.reshape(test_X.shape[0], -1).T\n",
    "\n",
    "# converting correct labels matrix to one hot matrix\n",
    "train_y = np.eye(6)[train_y.reshape(-1)].T\n",
    "test_y = np.eye(6)[test_y.reshape(-1)].T"
   ]
  },
  {
   "cell_type": "code",
   "execution_count": 47,
   "metadata": {},
   "outputs": [
    {
     "name": "stdout",
     "output_type": "stream",
     "text": [
      "Training set feature shape:(12288, 1080)\n",
      "Training set labels shape:(6, 1080)\n",
      "Test set features shape:(12288, 120)\n",
      "Test set labels shape:(6, 120)\n"
     ]
    }
   ],
   "source": [
    "print('Training set feature shape:'+ str(train_X.shape))\n",
    "print('Training set labels shape:'+ str(train_y.shape))\n",
    "print('Test set features shape:'+ str(test_X.shape))\n",
    "print('Test set labels shape:'+ str(test_y.shape))"
   ]
  },
  {
   "cell_type": "markdown",
   "metadata": {},
   "source": [
    "## <u>Neural Network Architecture\n",
    "<br>Input layer: 12288 features\n",
    "<br>No. of Hidden Layers: 2\n",
    "<br>No. of units in hidden layer: 20 in both\n",
    "<br>Output Layer units: 6 (for 6 classes)\n",
    "\n",
    "**Model:**\n",
    "<br>input --> Linear --> ReLU --> Linear -->ReLU -->Linear -->Softmax(output)"
   ]
  },
  {
   "cell_type": "markdown",
   "metadata": {},
   "source": [
    "In tensorflow we define blocks for the computational graph and in the end run the data through the computational graph.\n",
    "<br>So for coding in tensforflow we need not worry about finding the gradients for backpropagation as all the things are systematically coded in computaional blocks, tensorflow can find the gradients for us.<br>\n",
    "<br><u>**Steps:**</u>\n",
    "<br>1) Create tensors \n",
    "<br>2) Define the operations to do with the tensors\n",
    "<br>3) initialize the variables\n",
    "<br>4) start and run the session to run the graph model"
   ]
  },
  {
   "cell_type": "code",
   "execution_count": 48,
   "metadata": {
    "collapsed": true
   },
   "outputs": [],
   "source": [
    "'''\n",
    "returns the placeholders which will be required during training\n",
    "Arguments:\n",
    "    n_x: (int) no. of units in input layer\n",
    "    n_y: (int) no. of units in output layer\n",
    "returns:\n",
    "    X:(tensorflow object)\n",
    "    y:(tensorflow object)\n",
    "'''\n",
    "def createPlaceholders(n_x , n_y ):\n",
    "    \n",
    "    X = tf.placeholder(shape = [n_x, None], dtype = 'float')\n",
    "    y = tf.placeholder(shape = [n_y, None], dtype = 'float')\n",
    "  \n",
    "    return X, y"
   ]
  },
  {
   "cell_type": "markdown",
   "metadata": {},
   "source": [
    "### First we will initialize the weights for different layers\n",
    "We will be using Xavier Initialization.\n"
   ]
  },
  {
   "cell_type": "code",
   "execution_count": 49,
   "metadata": {
    "collapsed": true
   },
   "outputs": [],
   "source": [
    "'''\n",
    "Initializes the weights and bias values for all the layers of the neural network\n",
    "Arguments:\n",
    "    num_layers: (int) no. of  layer\n",
    "    layer_units: (int) no. of units in output layer\n",
    "returns:\n",
    "    parameters:(dict) contains the weight and bias parameters\n",
    "'''\n",
    "def initializeParam(num_layers, layer_units):\n",
    "    \n",
    "    # for storing the weights and bias values of different layers\n",
    "    parameters = {} \n",
    "    \n",
    "    for l in range(num_layers):\n",
    "        parameters['W' + str(l+1)] = tf.get_variable('W' + str(l+1), [layer_units[l+1], layer_units[l]],\n",
    "                                                  initializer = tf.contrib.layers.xavier_initializer())\n",
    "        parameters['b' + str(l+1)] = tf.get_variable('b' + str(l+1), [layer_units[l+1],1],\n",
    "                                                  initializer = tf.zeros_initializer())\n",
    "   \n",
    "    return parameters"
   ]
  },
  {
   "cell_type": "markdown",
   "metadata": {},
   "source": [
    "### <u>Forward propagation\n"
   ]
  },
  {
   "cell_type": "code",
   "execution_count": 50,
   "metadata": {
    "collapsed": true
   },
   "outputs": [],
   "source": [
    "'''\n",
    "Returns the linear output of the output layer\n",
    "Arguments:\n",
    "    X: (tensorflow array) input features\n",
    "    parameters: (dict) weight and bias parameters of different layers\n",
    "    num_layers: (int) no. of layers\n",
    "    layer_units: (int) no. of units in output layer\n",
    "returns:\n",
    "    Z: (tf array) Returns the linear output of the output layer\n",
    "'''\n",
    "def forwardPropagate(X, parameters, num_layers, layer_units):\n",
    "    A = X\n",
    "    # for the hidden layers\n",
    "    for l in range(num_layers - 1):\n",
    "        Z = tf.add(tf.matmul(parameters['W' + str(l+1)], A), parameters['b' + str(l+1)])\n",
    "        A = tf.nn.relu(Z)\n",
    "    \n",
    "    # for the output layer,we only find the linear function\n",
    "    Z = tf.add(tf.matmul(parameters['W' + str(num_layers)], A), parameters['b' + str(num_layers)])\n",
    "    \n",
    "    return Z   "
   ]
  },
  {
   "cell_type": "markdown",
   "metadata": {},
   "source": [
    "### <u>Cost function"
   ]
  },
  {
   "cell_type": "code",
   "execution_count": 51,
   "metadata": {
    "collapsed": true
   },
   "outputs": [],
   "source": [
    "'''\n",
    "Returns the cost of the neural network\n",
    "Arguments:\n",
    "    Z3: marix containing linear output of final layer for all the examples\n",
    "    y: matrix containing the correct output label for the examples\n",
    "returns:\n",
    "    cost: returns the cost\n",
    "'''\n",
    "def computeCost(Z3, y):\n",
    "     \n",
    "    # we will use softmax for the output layer and compute the cost function\n",
    "    output_layer = tf.transpose(Z3)\n",
    "    y_labels = tf.transpose(y)\n",
    "    # compute the cost \n",
    "    cost = tf.reduce_mean(tf.nn.softmax_cross_entropy_with_logits(logits = output_layer, labels = y_labels))\n",
    "    \n",
    "    return cost"
   ]
  },
  {
   "cell_type": "code",
   "execution_count": 52,
   "metadata": {
    "collapsed": true
   },
   "outputs": [],
   "source": [
    "'''\n",
    "Makes shuffled minibatches from the examples\n",
    "Arguments:\n",
    "    X: (tensorflow array) input features\n",
    "    y: correct output labels for examples\n",
    "    minibatch_size: (int) size of each minibatch\n",
    "returns:\n",
    "    mini_batches: Returns a list containing tuple pairs of feature vectors and correct output labels\n",
    "'''\n",
    "def getRandomMiniBatches(X, y, minibatch_size = 64):\n",
    "    # total training examples\n",
    "    m = X.shape[1]\n",
    "    # we will store the mini batches as tuple pair in a list\n",
    "    mini_batches = []\n",
    "    \n",
    "    ## First we need to shuffle the training examples\n",
    "    permutation_list = list(np.random.permutation(m))\n",
    "    shuffled_X = X[:, permutation_list]\n",
    "    shuffled_y = y[:, permutation_list]\n",
    "    \n",
    "    # find the total no. of mini batches that can be formed from the training examples\n",
    "    num_minibatches = math.floor(m/minibatch_size) \n",
    "    \n",
    "    # now partition the original training set into mini batches\n",
    "    # we make mini batches till the time complete mini batches can be made\n",
    "    for i in range(num_minibatches):\n",
    "        minibatch_X = X[:, i*minibatch_size: i*minibatch_size + minibatch_size]\n",
    "        minibatch_y = y[:, i*minibatch_size: i*minibatch_size + minibatch_size]\n",
    "        \n",
    "        minibatch = (minibatch_X, minibatch_y)\n",
    "        mini_batches.append(minibatch)\n",
    "        \n",
    "    # if number of minibatches that can be made is not a multiple of 'm'\n",
    "    if m % num_minibatches != 0:\n",
    "        minibatch_X = X[:, i*minibatch_size: m]\n",
    "        minibatch_y = y[:, i*minibatch_size: m]\n",
    "        \n",
    "        minibatch = (minibatch_X, minibatch_y)\n",
    "        mini_batches.append(minibatch)\n",
    "        \n",
    "    return mini_batches"
   ]
  },
  {
   "cell_type": "markdown",
   "metadata": {},
   "source": [
    "### <u>Backward Propagation and Optimization\n",
    "Tensorflow takes care of finding the gradients so our job is to provide it with the cost function and telling which optimizer to use."
   ]
  },
  {
   "cell_type": "code",
   "execution_count": 53,
   "metadata": {
    "collapsed": true
   },
   "outputs": [],
   "source": [
    "'''\n",
    "Runs the Neural network on training examples to get the parameter values \n",
    "Arguments:\n",
    "    num_layers: no. of layers\n",
    "    layer_units: list containing the no. of units in each layer\n",
    "    X_train: training features fro m examples\n",
    "    Y_train: correct output labels for training examples\n",
    "    X_test: input features for test examples \n",
    "    Y_test:correct otuput labels for examples\n",
    "    learning_rate: learning rate for optimization\n",
    "    num_epochs: no. of epochs to run \n",
    "    minibatch_size = size of each mini batch\n",
    "returns:\n",
    "    Z: (tf array) Returns the linear output of the output layer\n",
    "'''\n",
    "def nnModel(num_layers, layer_units, X_train, Y_train, X_test, Y_test, learning_rate = 0.0001,\n",
    "          num_epochs = 1500, minibatch_size = 64):\n",
    "    \n",
    "    # this allows to rerun the model without overwriting tensorflow variables\n",
    "    ops.reset_default_graph()                         \n",
    "    \n",
    "    # no. of training features and total no. of training examples\n",
    "    (n_x, m) = X_train.shape             \n",
    "    n_y = Y_train.shape[0]               \n",
    "    \n",
    "    # number of minibatches \n",
    "    num_minibatches = int(m / minibatch_size) \n",
    "            \n",
    "    # required for keeping track of cost \n",
    "    costs = []                      \n",
    "    \n",
    "    # Create Placeholders of shape (n_x, n_y)\n",
    "    X, Y = createPlaceholders(n_x, n_y)\n",
    "    \n",
    "    # initialize the parameters\n",
    "    parameters = initializeParam(num_layers, layer_units)\n",
    "    \n",
    "    # adding the forward propagation part to the computation graph\n",
    "    Z3 = forwardPropagate(X, parameters, num_layers, layer_units)\n",
    "   \n",
    "    # adding the cost function part to the computation graph\n",
    "    cost = computeCost(Z3, Y)\n",
    "    \n",
    "    # Backpropagation\n",
    "    # we will use Adam optimizer\n",
    "    optimizer = tf.train.AdamOptimizer(learning_rate = learning_rate).minimize(cost)\n",
    "    \n",
    "    # Initialize all the variables\n",
    "    init = tf.global_variables_initializer()\n",
    "\n",
    "    # now we will run the neural network\n",
    "    with tf.Session() as sess:\n",
    "        \n",
    "        # do initialization for the variables\n",
    "        sess.run(init)\n",
    "        \n",
    "        # start training\n",
    "        for epoch in range(num_epochs):\n",
    "            # epoch cost \n",
    "            epoch_cost = 0.                      \n",
    "            minibatches = getRandomMiniBatches(X_train, Y_train, minibatch_size)\n",
    "\n",
    "            for curr_minibatch in minibatches:\n",
    "\n",
    "                # Select a minibatch\n",
    "                (minibatch_X, minibatch_Y) = curr_minibatch\n",
    "                \n",
    "                # Backward propagation can be incorporated in tensorflow by computing \"optimizer\" and the \"cost\",\n",
    "                # We will give minibatch for X and y to the feed_dict\n",
    "                _ , minibatch_cost = sess.run([optimizer, cost], feed_dict={X: minibatch_X, Y: minibatch_Y})\n",
    "                \n",
    "                # add the current minbatch cost to compute the total mini batch cost\n",
    "                epoch_cost += minibatch_cost / num_minibatches\n",
    "            \n",
    "            # printing the cost to see progress\n",
    "            if epoch % 100 == 0:\n",
    "                print('Cost %i: %f' % (epoch, epoch_cost))\n",
    "            \n",
    "            # storing the epoch cost for plotting \n",
    "            if epoch % 5 == 0:\n",
    "                costs.append(epoch_cost)\n",
    "\n",
    "        print (\"Training done\")\n",
    "        \n",
    "        # to save the parameters in a variable\n",
    "        parameters = sess.run(parameters)\n",
    "        \n",
    "        return parameters, costs"
   ]
  },
  {
   "cell_type": "markdown",
   "metadata": {},
   "source": [
    "### Now time to do training on the neural network"
   ]
  },
  {
   "cell_type": "code",
   "execution_count": 55,
   "metadata": {},
   "outputs": [
    {
     "name": "stdout",
     "output_type": "stream",
     "text": [
      "Cost 0: 1.963466\n",
      "Cost 100: 0.953373\n",
      "Cost 200: 0.605937\n",
      "Cost 300: 0.408405\n",
      "Cost 400: 0.287869\n",
      "Cost 500: 0.195621\n",
      "Cost 600: 0.130834\n",
      "Cost 700: 0.084097\n",
      "Cost 800: 0.053495\n",
      "Cost 900: 0.038553\n",
      "Cost 1000: 0.026856\n",
      "Cost 1100: 0.017250\n",
      "Cost 1200: 0.010499\n",
      "Cost 1300: 0.005848\n",
      "Cost 1400: 0.010153\n",
      "Training done\n",
      "Time taken: 8.912865920979387 seconds\n"
     ]
    }
   ],
   "source": [
    "# for calculating the time taken for computation\n",
    "start = time.clock()\n",
    "num_layers = 3\n",
    "layer_units = [train_X.shape[0], 25, 12, 6]\n",
    "\n",
    "learning_rate = 0.0001,\n",
    "num_epochs = 1500\n",
    "minibatch_size = 64\n",
    "\n",
    "# training the model\n",
    "parameters, costs = nnModel(num_layers, layer_units, train_X, train_y, test_X, test_y, learning_rate = 0.0001,\n",
    "          num_epochs = 1500, minibatch_size = 64)\n",
    "print('Time taken: ' + str((time.clock() - start)/60) + ' seconds')"
   ]
  },
  {
   "cell_type": "markdown",
   "metadata": {},
   "source": [
    "#### For plotting  cost vs epoch graph to see how the cost changes"
   ]
  },
  {
   "cell_type": "code",
   "execution_count": 62,
   "metadata": {
    "collapsed": true
   },
   "outputs": [],
   "source": [
    "'''\n",
    "Plots cost vs Interation\n",
    "Arguments:\n",
    "    costs: list of cost computed during every 5th epoch\n",
    "    learning_rate: learning rate of the optimization step\n",
    "returns:\n",
    "    nil\n",
    "'''\n",
    "def plotCost(costs, learning_rate):\n",
    "    # plot the graph for cost changing with iterations\n",
    "    plt.plot(np.squeeze(costs))\n",
    "    plt.ylabel('cost')\n",
    "    plt.xlabel('iterations (per tens)')\n",
    "    plt.title(\"Learning rate =\" + str(learning_rate))\n",
    "    plt.show()"
   ]
  },
  {
   "cell_type": "markdown",
   "metadata": {},
   "source": [
    "#### For calculating the accuracy of the Model"
   ]
  },
  {
   "cell_type": "code",
   "execution_count": 96,
   "metadata": {
    "collapsed": true
   },
   "outputs": [],
   "source": [
    "'''\n",
    "Calculates the accuracy on training and test sets\n",
    "Arguments:\n",
    "    X_train: training features fro m examples\n",
    "    Y_train: correct output labels for training examples\n",
    "    X_test: input features for test examples \n",
    "    Y_test:correct otuput labels for examples\n",
    "    num_layers: no. of layers\n",
    "    layer_units: list containing the no. of units in each layer\n",
    "    parameters: trained parameter values for the neural network includes weight and bias values\n",
    "returns:\n",
    "    nil\n",
    "'''\n",
    "def calculateAccuracy( X_train, Y_train, X_test, Y_test, num_layers, layer_units, parameters ):\n",
    "    # no. of features\n",
    "    n_x = X_train.shape[0]\n",
    "    n_y = 6\n",
    "    \n",
    "    # placeholder for input features\n",
    "    X = tf.placeholder(\"float\", [n_x, None])\n",
    "    Y = tf.placeholder(\"float\", [n_y,None])\n",
    "    \n",
    "    # for storing the tf converted parameters\n",
    "    tf_param = {}\n",
    "    \n",
    "    # convert the parameters to tf \n",
    "    for l in range(num_layers):\n",
    "            tf_param['W' + str(l+1)] = tf.convert_to_tensor(parameters['W' + str(l+1)])\n",
    "            tf_param['b' + str(l+1)] = tf.convert_to_tensor(parameters['b' + str(l+1)])\n",
    "    \n",
    "    # take the output from trained NN by doing forward propagation\n",
    "    Z3 = forwardPropagate(X, tf_param, num_layers, layer_units)\n",
    "    \n",
    "    # Calculate the correct predictions\n",
    "    corr_predictions = tf.equal(tf.argmax(Z3), tf.argmax(Y))\n",
    "\n",
    "    # Calculate accuracy on the test set\n",
    "    accuracy = tf.reduce_mean(tf.cast(corr_predictions, \"float\"))\n",
    "    with tf.Session() as sess:\n",
    "        print (\"Accuracy on Training set:\", accuracy.eval({X: X_train, Y: Y_train})*100)\n",
    "        print (\"Accuracy on Test set:\", accuracy.eval({X: X_test, Y: Y_test})*100)"
   ]
  },
  {
   "cell_type": "code",
   "execution_count": 97,
   "metadata": {},
   "outputs": [
    {
     "data": {
      "image/png": "[encoded data removed]",
      "text/plain": [
       "<matplotlib.figure.Figure at 0x17a7f403668>"
      ]
     },
     "metadata": {},
     "output_type": "display_data"
    },
    {
     "name": "stdout",
     "output_type": "stream",
     "text": [
      "Accuracy on Training set: 100.0\n",
      "Accuracy on Test set: 84.1666638851\n"
     ]
    }
   ],
   "source": [
    "learning_rate = 0.0001\n",
    "plotCost(costs, learning_rate)\n",
    "calculateAccuracy( train_X, train_y, test_X, test_y, num_layers, layer_units, parameters )"
   ]
  },
  {
   "cell_type": "code",
   "execution_count": 80,
   "metadata": {
    "collapsed": true
   },
   "outputs": [],
   "source": [
    "'''\n",
    "for making a prediction by the neural network for an input image\n",
    "Arguments:\n",
    "    n_X: no. of units in input layer\n",
    "    num_layers: total no. of layers\n",
    "    X: input features\n",
    "    parameters: trained parameter values\n",
    "returns:\n",
    "    preiction for the input \n",
    "'''\n",
    "def doPrediction(n_x, num_layers, input_X, parameters):\n",
    "    # placeholder for input features\n",
    "    X = tf.placeholder(\"float\", [n_x, None])\n",
    "    \n",
    "    # for storing the tf converted parameters\n",
    "    tf_param = {}\n",
    "    \n",
    "    # convert the parameters to tf \n",
    "    for l in range(num_layers):\n",
    "            tf_param['W' + str(l+1)] = tf.convert_to_tensor(parameters['W' + str(l+1)])\n",
    "            tf_param['b' + str(l+1)] = tf.convert_to_tensor(parameters['b' + str(l+1)])\n",
    "    \n",
    "    # take the output from trained NN by doing forward propagation\n",
    "    Z3 = forwardPropagate(X, tf_param, num_layers, layer_units)\n",
    "    \n",
    "    # take the max softmax output\n",
    "    softmax_output = tf.argmax(Z3)\n",
    "    \n",
    "    with tf.Session() as sess:\n",
    "        prediction = sess.run(softmax_output, feed_dict = {X: input_X})\n",
    "        \n",
    "    return prediction"
   ]
  },
  {
   "cell_type": "code",
   "execution_count": null,
   "metadata": {
    "collapsed": true
   },
   "outputs": [],
   "source": [
    "import scipy\n",
    "from PIL import Image\n",
    "from scipy import ndimage\n",
    "\n",
    "## START CODE HERE ## (PUT YOUR IMAGE NAME) \n",
    "my_image = \"6.jpg\"\n",
    "\n",
    "\n",
    "# We preprocess your image to fit your algorithm.\n",
    "fname = \"images/\" + my_image\n",
    "image = np.array(ndimage.imread(fname, flatten=False))\n",
    "my_image = scipy.misc.imresize(image, size=(64,64)).reshape((1, 64*64*3)).T\n",
    "my_image_prediction = doPrediction(train_X.shape[0], 3, my_image, parameters)\n",
    "\n",
    "plt.imshow(image)\n",
    "print(\"Your algorithm predicts: y = \" + str(np.squeeze(my_image_prediction)))"
   ]
  }
 ],
 "metadata": {
  "kernelspec": {
   "display_name": "Python 3",
   "language": "python",
   "name": "python3"
  },
  "language_info": {
   "codemirror_mode": {
    "name": "ipython",
    "version": 3
   },
   "file_extension": ".py",
   "mimetype": "text/x-python",
   "name": "python",
   "nbconvert_exporter": "python",
   "pygments_lexer": "ipython3",
   "version": "3.6.3"
  }
 },
 "nbformat": 4,
 "nbformat_minor": 2
}
